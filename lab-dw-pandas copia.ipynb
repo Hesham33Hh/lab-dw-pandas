{
 "cells": [
  {
   "cell_type": "code",
   "execution_count": null,
   "id": "2dca5073-4520-4f42-9390-4b92733284ed",
   "metadata": {},
   "outputs": [],
   "source": [
    "# Your code here"
   ]
  },
  {
   "cell_type": "code",
   "execution_count": 5,
   "id": "53b88389",
   "metadata": {},
   "outputs": [
    {
     "name": "stdout",
     "output_type": "stream",
     "text": [
      "Requirement already satisfied: pandas in /opt/anaconda3/lib/python3.12/site-packages (2.2.2)\n",
      "Collecting xlrd\n",
      "  Downloading xlrd-2.0.1-py2.py3-none-any.whl.metadata (3.4 kB)\n",
      "Requirement already satisfied: numpy>=1.26.0 in /opt/anaconda3/lib/python3.12/site-packages (from pandas) (1.26.4)\n",
      "Requirement already satisfied: python-dateutil>=2.8.2 in /opt/anaconda3/lib/python3.12/site-packages (from pandas) (2.9.0.post0)\n",
      "Requirement already satisfied: pytz>=2020.1 in /opt/anaconda3/lib/python3.12/site-packages (from pandas) (2024.1)\n",
      "Requirement already satisfied: tzdata>=2022.7 in /opt/anaconda3/lib/python3.12/site-packages (from pandas) (2023.3)\n",
      "Requirement already satisfied: six>=1.5 in /opt/anaconda3/lib/python3.12/site-packages (from python-dateutil>=2.8.2->pandas) (1.16.0)\n",
      "Downloading xlrd-2.0.1-py2.py3-none-any.whl (96 kB)\n",
      "Installing collected packages: xlrd\n",
      "Successfully installed xlrd-2.0.1\n",
      "Note: you may need to restart the kernel to use updated packages.\n"
     ]
    }
   ],
   "source": [
    "pip install pandas xlrd"
   ]
  },
  {
   "cell_type": "code",
   "execution_count": 6,
   "id": "613e657e",
   "metadata": {},
   "outputs": [
    {
     "name": "stdout",
     "output_type": "stream",
     "text": [
      "                  Date    Year          Type      Country            State  \\\n",
      "0  2025-03-26 00:00:00  2025.0    Unprovoked    Australia               WA   \n",
      "1  2025-03-10 00:00:00  2025.0    Unprovoked    Australia               WA   \n",
      "2  2025-03-07 00:00:00  2025.0    Unprovoked    Australia              NSW   \n",
      "3  2025-02-27 00:00:00  2025.0    Unprovoked    Australia         Victoria   \n",
      "4            27-Feb-25  2025.0  Questionable  Philippines  Batangas Resort   \n",
      "\n",
      "                                    Location      Activity  \\\n",
      "0  Sandtrax Port Beach North Fremantle Perth      Swimming   \n",
      "1                        Duke of Orleans Bay       Surfing   \n",
      "2         Gunyah beach Bundeena Port Hacking      Swimming   \n",
      "3                   Nuns Beach near Portland      Swimming   \n",
      "4                               Verde Island  SCUBA Diving   \n",
      "\n",
      "                   Name Sex  Age  ...           Species   \\\n",
      "0          Unknown Male   M  30+  ...   1.5m Tiger shark   \n",
      "1  Steven Jeffrey Payne   M   37  ...  Great White Shark   \n",
      "2        Mangyong Zhang  F    56  ...         Bull shark   \n",
      "3       Robbie Houlihan   M  40+  ...         Not stated   \n",
      "4       Illia Peregudin   M   29  ...        Not stated    \n",
      "\n",
      "                                              Source  pdf href formula href  \\\n",
      "0  Kevin McMurray Trackingsharks.com: www.surfer....  NaN          NaN  NaN   \n",
      "1                                          Bob Myatt  NaN          NaN  NaN   \n",
      "2                                          Bob Myatt  NaN          NaN  NaN   \n",
      "3                  Kevin McMurray Trackingsharks.com  NaN          NaN  NaN   \n",
      "4                    Stephen Parkhill   Glen Folkard  NaN          NaN  NaN   \n",
      "\n",
      "  Case Number Case Number.1 original order Unnamed: 21 Unnamed: 22  \n",
      "0         NaN           NaN            NaN         NaN         NaN  \n",
      "1         NaN           NaN            NaN         NaN         NaN  \n",
      "2         NaN           NaN            NaN         NaN         NaN  \n",
      "3         NaN           NaN            NaN         NaN         NaN  \n",
      "4         NaN           NaN            NaN         NaN         NaN  \n",
      "\n",
      "[5 rows x 23 columns]\n"
     ]
    }
   ],
   "source": [
    "import pandas as pd\n",
    "\n",
    "df = pd.read_excel(\"/Users/heshamelsharkawy/Documents/coding/Ironhack/week_4/GSAF5.xls\",engine=\"xlrd\")\n",
    "print(df.head())"
   ]
  },
  {
   "cell_type": "code",
   "execution_count": null,
   "id": "d6d1d603",
   "metadata": {},
   "outputs": [],
   "source": []
  }
 ],
 "metadata": {
  "kernelspec": {
   "display_name": "base",
   "language": "python",
   "name": "python3"
  },
  "language_info": {
   "codemirror_mode": {
    "name": "ipython",
    "version": 3
   },
   "file_extension": ".py",
   "mimetype": "text/x-python",
   "name": "python",
   "nbconvert_exporter": "python",
   "pygments_lexer": "ipython3",
   "version": "3.12.7"
  }
 },
 "nbformat": 4,
 "nbformat_minor": 5
}
